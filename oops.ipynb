{
 "cells": [
  {
   "cell_type": "markdown",
   "id": "84886475",
   "metadata": {},
   "source": [
    "### class"
   ]
  },
  {
   "cell_type": "code",
   "execution_count": 1,
   "id": "a8466456",
   "metadata": {},
   "outputs": [],
   "source": [
    "# class is a template definition of the methods and variables in a particular kind of object\n",
    "# A class is a collection of objects\n",
    "\n",
    "# empty class\n",
    "class Employee:\n",
    "    pass"
   ]
  },
  {
   "cell_type": "markdown",
   "id": "9ae846e4",
   "metadata": {},
   "source": [
    "### Object"
   ]
  },
  {
   "cell_type": "code",
   "execution_count": 15,
   "id": "5ca69e7e",
   "metadata": {},
   "outputs": [
    {
     "name": "stdout",
     "output_type": "stream",
     "text": [
      "2375771947456\n",
      "hello python\n",
      "2375720591600\n"
     ]
    }
   ],
   "source": [
    "# object is an entity that has state and behaviour\n",
    "\n",
    "# When we define a class, it needs to create an object to allocate the memory.\n",
    "\n",
    "class Employee:\n",
    "    def show(self):\n",
    "        print(\"hello python\")\n",
    "\n",
    "# object creation\n",
    "e = Employee()\n",
    "print(id(e))\n",
    "e.show()\n",
    "\n",
    "\n",
    "# we can not call the methods present in the class\n",
    "e = Employee\n",
    "print(id(e))\n",
    "# e.show()"
   ]
  },
  {
   "cell_type": "markdown",
   "id": "77041440",
   "metadata": {},
   "source": [
    "### Basic Keywords"
   ]
  },
  {
   "cell_type": "raw",
   "id": "39b508f2",
   "metadata": {},
   "source": [
    "self \n",
    "\n",
    "The self parameter is a reference to the current instance of the class, and is used to access variables that belongs \n",
    "to the class.\n",
    "Class methods must have an extra first parameter in the method definition. We do not give a value for this parameter\n",
    "when we call the method, Python provides it If we have a method that takes no arguments, then we still have to\n",
    "have one argument.\n"
   ]
  },
  {
   "cell_type": "code",
   "execution_count": 24,
   "id": "6594470d",
   "metadata": {},
   "outputs": [
    {
     "name": "stdout",
     "output_type": "stream",
     "text": [
      "Id of the self =  2257764679152\n",
      "Id of the object =  2257764679152\n"
     ]
    }
   ],
   "source": [
    "class Example:\n",
    "    def __init__(self):\n",
    "        print(\"Id of the self = \",id(self))\n",
    "        \n",
    "        \n",
    "ex = Example()\n",
    "print(\"Id of the object = \",id(ex))"
   ]
  },
  {
   "cell_type": "raw",
   "id": "66d9f330",
   "metadata": {},
   "source": [
    "__init__ method\n",
    "\n",
    "It is similar to constructor in c++.\n",
    "It will be run as soon as the object is initiated.\n",
    "The task of constructors is to initialize(assign values) to the data members of the class when an object of the class is created.\n"
   ]
  },
  {
   "cell_type": "code",
   "execution_count": 18,
   "id": "289cc9eb",
   "metadata": {},
   "outputs": [
    {
     "name": "stdout",
     "output_type": "stream",
     "text": [
      "outside color= black\n",
      "outside color= black\n",
      "color inside the method\n"
     ]
    }
   ],
   "source": [
    "class Dog:\n",
    "    color = \"black\"\n",
    "    print(\"outside color=\",color)\n",
    "    def __init__(self):\n",
    "#         self.color = at\n",
    "        \n",
    "        print(\"color inside the method\")\n",
    "\n",
    "    print(\"outside color=\",color)\n",
    "\n",
    "# dg = Dog    \n",
    "d = Dog() # in this case constructor will be called\n",
    "\n",
    "        "
   ]
  },
  {
   "cell_type": "raw",
   "id": "343a97f5",
   "metadata": {},
   "source": [
    "Destructor =\n",
    "# The __del__() method is a known as a destructor method in Python\n",
    "It is called when all references to the object have been deleted\n",
    "In Python, destructors are not needed as much as in C++ because Python has a garbage collector that handles \n",
    "memory management automatically. "
   ]
  },
  {
   "cell_type": "code",
   "execution_count": 30,
   "id": "c4fa697b",
   "metadata": {},
   "outputs": [
    {
     "name": "stdout",
     "output_type": "stream",
     "text": [
      "Employee created.\n",
      "Destructor called, Employee deleted.\n",
      "id before deleted =  2257762066976\n",
      "Destructor called, Employee deleted.\n"
     ]
    }
   ],
   "source": [
    "# Python program to illustrate destructor\n",
    "class Employee:\n",
    " \n",
    "    # Initializing\n",
    "    def __init__(self):\n",
    "        print('Employee created.')\n",
    " \n",
    "    # Deleting (Calling destructor)\n",
    "    def __del__(self):\n",
    "        print('Destructor called, Employee deleted.')\n",
    " \n",
    "obj = Employee()\n",
    "print(\"id before deleted = \",id(obj))\n",
    "del obj\n",
    "# print(\"id after deleted = \",id(obj)) \"This will give error because object is delted\"\n"
   ]
  },
  {
   "cell_type": "markdown",
   "id": "b786747d",
   "metadata": {},
   "source": [
    "## Inheritance"
   ]
  },
  {
   "cell_type": "raw",
   "id": "5250b15e",
   "metadata": {},
   "source": [
    "In inheritance one class inherits the properties and behaviour of another class.\n",
    "The class which inherits the property called the child class.\n",
    "the class from where properties and behaviour are inherited called the parent class."
   ]
  },
  {
   "cell_type": "code",
   "execution_count": 40,
   "id": "85b39fec",
   "metadata": {},
   "outputs": [
    {
     "name": "stdout",
     "output_type": "stream",
     "text": [
      "Ramesh\n",
      "child name"
     ]
    },
    {
     "data": {
      "text/plain": [
       "'suresh'"
      ]
     },
     "execution_count": 40,
     "metadata": {},
     "output_type": "execute_result"
    }
   ],
   "source": [
    "# **********************SINGLE INHERITANCE****************************\n",
    "\n",
    "class Base:\n",
    "    def __init__(self,name):\n",
    "        self.name = name\n",
    "    def getName(self):\n",
    "        return self.name\n",
    "\n",
    "# Base class is inherited by child class that is why we can access all the methods of the Base class \n",
    "# through the object of the Child class    \n",
    "\n",
    "class Child(Base):\n",
    "    def setChildName(self,name):\n",
    "        self.child = name\n",
    "    def getChildName(self):\n",
    "        return self.child\n",
    "    \n",
    "c = Child(\"Ramesh\")\n",
    "print(c.getName())\n",
    "\n",
    "c.setChildName(\"suresh\")\n",
    "print(\"child name\",end= \"\")\n",
    "c.getChildName()"
   ]
  },
  {
   "cell_type": "code",
   "execution_count": 59,
   "id": "f5c0b3bc",
   "metadata": {},
   "outputs": [
    {
     "name": "stdout",
     "output_type": "stream",
     "text": [
      "grand parent details\n",
      "Tagaram\n",
      "parent details\n",
      "Devaram\n",
      "child details\n",
      "suresh\n"
     ]
    }
   ],
   "source": [
    "class grandParent:\n",
    "    def __init__(self):\n",
    "        self.gname = \"Tagaram\"\n",
    "    def getGname(self):\n",
    "        return self.gname\n",
    "    \n",
    "class Parent:\n",
    "    def __init__(self):\n",
    "        self.pname = \"Devaram\"\n",
    "    def getPname(self):\n",
    "        return self.pname\n",
    "    \n",
    "#     inheting multiple classes thatswhy itis multiple inheritance\n",
    "class child(grandParent,Parent):\n",
    "    def __init__(self):\n",
    "#         calling Parents classes constructor\n",
    "        grandParent.__init__(self)\n",
    "        Parent.__init__(self)\n",
    "        \n",
    "        self.name = \"suresh\"\n",
    "    def getname(self):\n",
    "        return self.name\n",
    "    \n",
    "c = child()\n",
    "\n",
    "print(\"grand parent details\")\n",
    "print(c.getGname())\n",
    "\n",
    "print(\"parent details\")\n",
    "print(c.getPname())\n",
    "\n",
    "print(\"child details\")\n",
    "print(c.getname())"
   ]
  },
  {
   "cell_type": "markdown",
   "id": "9f95b7e2",
   "metadata": {},
   "source": [
    "### Encapsulation"
   ]
  },
  {
   "cell_type": "raw",
   "id": "5e25a99f",
   "metadata": {},
   "source": [
    "It describes the idea of wrapping data and the methods within one unit.\n",
    "This puts restrictions on accessing variables and methods directly and can prevent the accidental modification of data.\n",
    "\n",
    "Protected member are those members of the class that cannot be accessed outside the class but can be\n",
    "accessed from within the class and its subclasses\n",
    "these are created by the _ and followed by name of the  variable\n",
    "ex = _a = 34\n",
    "\n",
    "private member are accessed only in the class neigther outside of the class and nor in base class.\n",
    "ex = __a = 45\n"
   ]
  },
  {
   "cell_type": "code",
   "execution_count": 4,
   "id": "4d1aa3cf",
   "metadata": {},
   "outputs": [
    {
     "name": "stdout",
     "output_type": "stream",
     "text": [
      "GeeksforGeeks\n"
     ]
    }
   ],
   "source": [
    "class Base:\n",
    "    def __init__(self):\n",
    "        self.a = \"GeeksforGeeks\"\n",
    "        self.__c = \"GeeksforGeeks\"\n",
    " \n",
    "# Creating a derived class\n",
    "class Derived(Base):\n",
    "    def __init__(self):\n",
    " \n",
    "        # Calling constructor of\n",
    "        # Base class\n",
    "        Base.__init__(self)\n",
    "        print(\"Calling private member of base class: \")\n",
    "        print(self.__c)\n",
    " \n",
    " \n",
    "# Driver code\n",
    "obj1 = Base()\n",
    "print(obj1.a)\n",
    "\n",
    "# print(obj1.c)  we will get error when we call this"
   ]
  },
  {
   "cell_type": "markdown",
   "id": "fbd0c10e",
   "metadata": {},
   "source": [
    "### Polymorphism"
   ]
  },
  {
   "cell_type": "raw",
   "id": "a957d030",
   "metadata": {},
   "source": [
    "the word polymorpwhism means having many forms.\n",
    "In programming, polymorphism means the same function name (but different signatures) being used for different types. \n",
    "The key difference is the data types and number of arguments used in function."
   ]
  },
  {
   "cell_type": "raw",
   "id": "64660b4a",
   "metadata": {},
   "source": [
    "Two types of Polymorphism\n",
    "Runtime polymorphism : function overriding\n",
    "Compile Time polymorphism : Function overloading \n",
    "\n",
    "\n",
    "python does not support function overloading. Latest fucntion will be run"
   ]
  },
  {
   "cell_type": "code",
   "execution_count": 7,
   "id": "d602c691",
   "metadata": {},
   "outputs": [
    {
     "name": "stdout",
     "output_type": "stream",
     "text": [
      "cat is meowing\n"
     ]
    }
   ],
   "source": [
    "# Function overriding : same function name in the base class and in the derived  class so derived class function will \n",
    "# override the base class function, and the derived class function will be run\n",
    "\n",
    "    \n",
    "class dog:\n",
    "    def speak(self):\n",
    "        print(\"Dog is barking\")\n",
    "        \n",
    "class cat(dog):\n",
    "#     this function willl override the base class function\n",
    "    def speak(self):\n",
    "        print(\"cat is meowing\")\n",
    "        \n",
    "\n",
    "        \n",
    "c = cat()\n",
    "c.speak()\n",
    "    "
   ]
  },
  {
   "cell_type": "code",
   "execution_count": 18,
   "id": "2718fc71",
   "metadata": {},
   "outputs": [
    {
     "data": {
      "text/plain": [
       "15"
      ]
     },
     "execution_count": 18,
     "metadata": {},
     "output_type": "execute_result"
    }
   ],
   "source": [
    "# Function overloading : same function name in  the class but have a diffrent signature.\n",
    "# like their return type  will be diffrent , number of parameters will be diffrent , type of parameter will be diffrent\n",
    "\n",
    "# Note: Python does not support method overloading. We may overload the methods but can only use the latest defined method.\n",
    "\n",
    "\n",
    "\n",
    "class Example:\n",
    "    def add(self,x,y):\n",
    "        self.c = x + y\n",
    "        return self.c\n",
    "    \n",
    "    def add(self,x,y,z):\n",
    "        self.c = x+y+z\n",
    "        return self.c\n",
    "    \n",
    "e = Example()\n",
    "e.add(4,5,4)\n"
   ]
  },
  {
   "cell_type": "markdown",
   "id": "02932f38",
   "metadata": {},
   "source": [
    "### Abstraction"
   ]
  },
  {
   "cell_type": "code",
   "execution_count": null,
   "id": "d4140951",
   "metadata": {},
   "outputs": [],
   "source": [
    "Abstraction is used to hide the internal functionality of the function from the users. \n",
    "The users only interact with the basic implementation of the function, but inner working is hidden. \n",
    "User is familiar with that \"what function does\" but they don't know \"how it does.\"\n",
    "\n",
    "In Python, abstraction can be achieved by using abstract classes and interfaces.\n",
    "\n",
    "\n"
   ]
  },
  {
   "cell_type": "code",
   "execution_count": 20,
   "id": "e8d8c2a2",
   "metadata": {},
   "outputs": [
    {
     "name": "stdout",
     "output_type": "stream",
     "text": [
      "The mileage is 30kmph\n",
      "The mileage is 25kmph \n"
     ]
    }
   ],
   "source": [
    "# abstract base class work   \n",
    "from abc import ABC, abstractmethod   \n",
    "class Car(ABC):  \n",
    "#     abstract method\n",
    "    def mileage(self):   \n",
    "        pass  \n",
    "  \n",
    "class Tesla(Car):   \n",
    "    def mileage(self):   \n",
    "        print(\"The mileage is 30kmph\")   \n",
    "class Suzuki(Car):   \n",
    "    def mileage(self):   \n",
    "        print(\"The mileage is 25kmph \")   \n",
    "        \n",
    "t = Tesla()\n",
    "t.mileage()\n",
    "\n",
    "s =Suzuki()\n",
    "s.mileage()"
   ]
  },
  {
   "cell_type": "code",
   "execution_count": null,
   "id": "16ee545e",
   "metadata": {},
   "outputs": [],
   "source": []
  },
  {
   "cell_type": "code",
   "execution_count": null,
   "id": "be2a5bf1",
   "metadata": {},
   "outputs": [],
   "source": []
  },
  {
   "cell_type": "code",
   "execution_count": null,
   "id": "0a3083cf",
   "metadata": {},
   "outputs": [],
   "source": []
  }
 ],
 "metadata": {
  "kernelspec": {
   "display_name": "Python 3 (ipykernel)",
   "language": "python",
   "name": "python3"
  },
  "language_info": {
   "codemirror_mode": {
    "name": "ipython",
    "version": 3
   },
   "file_extension": ".py",
   "mimetype": "text/x-python",
   "name": "python",
   "nbconvert_exporter": "python",
   "pygments_lexer": "ipython3",
   "version": "3.9.13"
  }
 },
 "nbformat": 4,
 "nbformat_minor": 5
}
